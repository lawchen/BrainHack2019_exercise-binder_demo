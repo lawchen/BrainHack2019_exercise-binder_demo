{
 "cells": [
  {
   "cell_type": "markdown",
   "metadata": {},
   "source": [
    "## &nbsp;&nbsp;&nbsp;&nbsp;&nbsp;&nbsp;&nbsp;&nbsp;&nbsp;&nbsp;&nbsp;&nbsp;&nbsp;Increasing re-usability/executability and reproducibility through virtualization </br>\n",
    "### &nbsp;&nbsp;&nbsp;&nbsp;&nbsp;&nbsp;&nbsp;&nbsp;&nbsp;&nbsp;&nbsp;&nbsp;&nbsp;&nbsp;&nbsp;&nbsp;&nbsp;&nbsp;&nbsp;&nbsp;&nbsp;&nbsp;&nbsp;&nbsp;&nbsp;&nbsp;&nbsp; - a walk-through example from virtual environments to docker and singularity"
   ]
  },
  {
   "cell_type": "markdown",
   "metadata": {},
   "source": [
    "*Please note that this is `Jupyter Notebook` using the [bash kernel](https://github.com/takluyver/bash_kernel) to demonstrate the content of this tutorial. The outputs and the way they appear will differ when running the commands in a `shell` and based on the OS.*"
   ]
  },
  {
   "cell_type": "markdown",
   "metadata": {},
   "source": [
    "Imagine you want to run a DTI analysis on a dataset you recently acquired or re-analyze an open dataset (more on that in the next few days). One amazing and comprehensive python package that can help you with that is [DIPY](https://nipy.org/dipy/). While going through [DIPY](https://nipy.org/dipy/)'s great and extensively documented example gallery, you find just the functionality you're interested in: [fiber tracking](http://nipy.org/dipy/examples_built/introduction_to_basic_tracking.html). After downloading the script, you're excited to run it using an example dataset to grasp a basic idea of how it works to later on adapt to your dataset:"
   ]
  },
  {
   "cell_type": "code",
   "execution_count": 3,
   "metadata": {},
   "outputs": [
    {
     "name": "stdout",
     "output_type": "stream",
     "text": [
      "Creating new folder /Users/peerherholz/.dipy/stanford_hardi\n",
      "Downloading \"HARDI150.nii.gz\" to /Users/peerherholz/.dipy/stanford_hardi\n",
      "Download Progress: [##################################] 100.00%  of 87.15 MBDownloading \"HARDI150.bval\" to /Users/peerherholz/.dipy/stanford_hardi\n",
      "Download Progress: [##################################] 100.00%  of 0.00 MBDownloading \"HARDI150.bvec\" to /Users/peerherholz/.dipy/stanford_hardi\n",
      "Download Progress: [##################################] 100.00%  of 0.00 MBFiles successfully downloaded to /Users/peerherholz/.dipy/stanford_hardi\n",
      "Dataset is already in place. If you want to fetch it again please first remove the folder /Users/peerherholz/.dipy/stanford_hardi \n",
      "Downloading \"aparc-reduced.nii.gz\" to /Users/peerherholz/.dipy/stanford_hardi\n",
      "Download Progress: [##################################] 100.00%  of 0.06 MBDownloading \"label_info.txt\" to /Users/peerherholz/.dipy/stanford_hardi\n",
      "Download Progress: [##################################] 100.00%  of 0.00 MBFiles successfully downloaded to /Users/peerherholz/.dipy/stanford_hardi\n",
      "Traceback (most recent call last):\n",
      "  File \"introduction_to_basic_tracking.py\", line 98, in <module>\n",
      "    from dipy.viz import window, actor, colormap as cmap, have_fury\n",
      "ImportError: cannot import name 'window'\n"
     ]
    },
    {
     "ename": "",
     "evalue": "1",
     "output_type": "error",
     "traceback": []
    }
   ],
   "source": [
    "python introduction_to_basic_tracking.py"
   ]
  },
  {
   "cell_type": "markdown",
   "metadata": {},
   "source": [
    "Depending on your setup at hand, you'll most likely receive an error message that can range from \"not having DIPY installed\" to \"missing certain sub-functionality\". As is this obviously sub-optimal, you want to resolve and fix whatever goes wrong here. But before you start, you should think about certain ways to approach this problem in order to make your solution and hopefully resulting code and analyses more re-usable/executable and reproducible in order to save your future self, lab colleagues that are working on similar topics or basically everyone out there that is potentially interested a lot of time and effort, as well as enable a form of \"long term maintenance\" helping to further improve (neuro)science. One, if not the perfect way to do this is \"[virtualization](https://en.wikipedia.org/wiki/Virtualization)\". So let's try how this can be achieved for our example."
   ]
  },
  {
   "cell_type": "markdown",
   "metadata": {},
   "source": [
    "As briefly introduced before, we have quite some levels of possible virtualization:\n",
    "\n",
    "<img src=\"https://raw.githubusercontent.com/goanpeca/pyday-cali-2019/master/img_source/isolation.png\"\n",
    "     alt=\"virtualization layers\"\n",
    "     style=\"float: left; margin-right: 2px;\" width=600; height=800  />"
   ]
  },
  {
   "cell_type": "markdown",
   "metadata": {},
   "source": [
    "Based on that, our first option, having the least amount of virtualization, is to create a virtual python environment using either [virtuelenv](https://virtualenv.pypa.io/en/latest/) or [venv](https://docs.python.org/3/library/venv.html). The difference between both is that the former supports python 2.* and 3.* , while the latter supports only 3.6 and upwards. As python 2.* will retire in 2020, let's use [venv](https://docs.python.org/3/library/venv.html)."
   ]
  },
  {
   "cell_type": "markdown",
   "metadata": {},
   "source": [
    "### Virtualiuation using python environments - venv"
   ]
  },
  {
   "cell_type": "markdown",
   "metadata": {},
   "source": [
    "*This part heavily relies on a [virtual environment tutorial from www.realpython.com](https://realpython.com/python-virtual-environments-a-primer/).*"
   ]
  },
  {
   "cell_type": "markdown",
   "metadata": {},
   "source": [
    "At first we have to create a new python environment by using `venv` the commandline, providing it with a name. The respective syntax is: `python -m venv *name*`, where `*name*` is the name of your new python environment. You can use almost every character and name, but it is definitely a good idea to provide a meaningful name:  "
   ]
  },
  {
   "cell_type": "code",
   "execution_count": 4,
   "metadata": {},
   "outputs": [],
   "source": [
    "python -m venv dipy_tracks"
   ]
  },
  {
   "cell_type": "markdown",
   "metadata": {},
   "source": [
    "By default no output will be given, so how can we check we happened? Just type `ls`. "
   ]
  },
  {
   "cell_type": "code",
   "execution_count": 6,
   "metadata": {},
   "outputs": [
    {
     "name": "stdout",
     "output_type": "stream",
     "text": [
      "\u001b[1m\u001b[34mdipy_tracks\u001b[39;49m\u001b[0m\n",
      "empty\n",
      "introduction_to_basic_tracking.py\n",
      "introduction_virtualization_practicals.ipynb\n"
     ]
    }
   ],
   "source": [
    "ls"
   ]
  },
  {
   "cell_type": "markdown",
   "metadata": {},
   "source": [
    "As you can see, a new directory named as our environment was created. Let's check what's inside:"
   ]
  },
  {
   "cell_type": "code",
   "execution_count": 7,
   "metadata": {},
   "outputs": [
    {
     "name": "stdout",
     "output_type": "stream",
     "text": [
      "\u001b[1m\u001b[34mbin\u001b[39;49m\u001b[0m        \u001b[1m\u001b[34minclude\u001b[39;49m\u001b[0m    \u001b[1m\u001b[34mlib\u001b[39;49m\u001b[0m        pyvenv.cfg\n"
     ]
    }
   ],
   "source": [
    "ls dipy_tracks"
   ]
  },
  {
   "cell_type": "markdown",
   "metadata": {},
   "source": [
    "We have `bin`, `include` and `lib`. Here's what they include: </br>\n",
    "\n",
    "- `bin` : files that interact with the virtual environment\n",
    "- `include` : C headers that compile the Python packages\n",
    "- `lib` : a copy of the Python version along with a site-packages folder where each dependency is installed"
   ]
  },
  {
   "cell_type": "markdown",
   "metadata": {},
   "source": [
    "But how can we work with this newly created python environment? At first, we have to `activate` it, by utilizing the `activate.sh` script in `bin`:"
   ]
  },
  {
   "cell_type": "code",
   "execution_count": 8,
   "metadata": {},
   "outputs": [
    {
     "name": "stdout",
     "output_type": "stream",
     "text": [
      "(dipy_tracks) "
     ]
    },
    {
     "ename": "",
     "evalue": "1",
     "output_type": "error",
     "traceback": []
    }
   ],
   "source": [
    "source dipy_tracks/bin/activate"
   ]
  },
  {
   "cell_type": "markdown",
   "metadata": {},
   "source": [
    "We're now in our newly created python environment and can use its resources. The change of environment is indicated through the display of its name left to the command prompt (only visible in the `shell`)."
   ]
  },
  {
   "cell_type": "markdown",
   "metadata": {},
   "source": [
    "Using `deactivate` we (you guessed right) `deactivate` or \"leave\" our environment again."
   ]
  },
  {
   "cell_type": "code",
   "execution_count": 10,
   "metadata": {},
   "outputs": [],
   "source": [
    "deactivate"
   ]
  },
  {
   "cell_type": "markdown",
   "metadata": {},
   "source": [
    "Now that we have that, let's try to run our example again, after activating our environment."
   ]
  },
  {
   "cell_type": "code",
   "execution_count": 11,
   "metadata": {},
   "outputs": [
    {
     "name": "stdout",
     "output_type": "stream",
     "text": [
      "(dipy_tracks) "
     ]
    },
    {
     "ename": "",
     "evalue": "1",
     "output_type": "error",
     "traceback": []
    }
   ],
   "source": [
    "source dipy_tracks/bin/activate"
   ]
  },
  {
   "cell_type": "code",
   "execution_count": 12,
   "metadata": {},
   "outputs": [
    {
     "name": "stdout",
     "output_type": "stream",
     "text": [
      "Traceback (most recent call last):\n",
      "  File \"introduction_to_basic_tracking.py\", line 30, in <module>\n",
      "    from dipy.data import read_stanford_labels\n",
      "ModuleNotFoundError: No module named 'dipy'\n",
      "(dipy_tracks) "
     ]
    },
    {
     "ename": "",
     "evalue": "1",
     "output_type": "error",
     "traceback": []
    }
   ],
   "source": [
    "python introduction_to_basic_tracking.py"
   ]
  },
  {
   "cell_type": "markdown",
   "metadata": {},
   "source": [
    "Most likely, you'll receive the error message \"ModuleNotFoundError: No module named 'dipy'\". But why is that? The reason is fairly simple: when creating virtual environments your already installed packages are not automatically included, but most be installed again in the new environment. Every python environment you have on your machine is its own entity in the sense that the binaries, libraries, etc. are not shared between environments and which python environment is used to execute a certain functionality is set by the `$PATH` variable in your `bash profile` or manually by you, activating it. Let's investigate that a bit more."
   ]
  },
  {
   "cell_type": "markdown",
   "metadata": {},
   "source": [
    "You can check which python environment is currently set by running `which python` from within your `shell`."
   ]
  },
  {
   "cell_type": "code",
   "execution_count": 13,
   "metadata": {},
   "outputs": [
    {
     "name": "stdout",
     "output_type": "stream",
     "text": [
      "/Users/peerherholz/google_drive/GitHub/NeuroDataSci-course-2019/content/day2/pm/dipy_tracks/bin/python\n",
      "(dipy_tracks) "
     ]
    },
    {
     "ename": "",
     "evalue": "1",
     "output_type": "error",
     "traceback": []
    }
   ],
   "source": [
    "which python"
   ]
  },
  {
   "cell_type": "markdown",
   "metadata": {},
   "source": [
    "You should see that the environment that is currently running is the one we just created. Now let's deactivate it and try again."
   ]
  },
  {
   "cell_type": "code",
   "execution_count": 14,
   "metadata": {},
   "outputs": [],
   "source": [
    "deactivate"
   ]
  },
  {
   "cell_type": "code",
   "execution_count": 15,
   "metadata": {},
   "outputs": [
    {
     "name": "stdout",
     "output_type": "stream",
     "text": [
      "/Users/peerherholz/anaconda3/bin/python\n"
     ]
    }
   ],
   "source": [
    "which python"
   ]
  },
  {
   "cell_type": "markdown",
   "metadata": {},
   "source": [
    "You should now see the environment that is running as default on your system. Let's investigate `$PATH` to further grasp what's going on."
   ]
  },
  {
   "cell_type": "code",
   "execution_count": 16,
   "metadata": {},
   "outputs": [
    {
     "name": "stdout",
     "output_type": "stream",
     "text": [
      "/Users/peerherholz/anaconda3/bin:/Users/peerherholz/abin:/usr/local/antsbin/bin:/Applications/MATLAB_R2014a.app/bin:/Applications/freesurfer/bin:/Applications/freesurfer/fsfast/bin:/Applications/freesurfer/tktools:/usr/local/fsl/bin:/Applications/freesurfer/mni/bin:/usr/local/fsl/bin:/Users/peerherholz/anaconda3/bin:/usr/bin:/bin:/usr/sbin:/sbin:/usr/local/bin:/Applications/workbench/bin_macosx64:/usr/local/texlive/2019/bin/x86_64-darwin/:/Users/peerherholz/abin\n"
     ]
    }
   ],
   "source": [
    "echo $PATH"
   ]
  },
  {
   "cell_type": "markdown",
   "metadata": {},
   "source": [
    "And now from within our new environment:"
   ]
  },
  {
   "cell_type": "code",
   "execution_count": 19,
   "metadata": {},
   "outputs": [
    {
     "name": "stdout",
     "output_type": "stream",
     "text": [
      "(dipy_tracks) /Users/peerherholz/google_drive/GitHub/NeuroDataSci-course-2019/content/day2/pm/dipy_tracks/bin:/Users/peerherholz/anaconda3/bin:/Users/peerherholz/anaconda3/bin:/Users/peerherholz/abin:/usr/local/antsbin/bin:/Applications/MATLAB_R2014a.app/bin:/Applications/freesurfer/bin:/Applications/freesurfer/fsfast/bin:/Applications/freesurfer/tktools:/usr/local/fsl/bin:/Applications/freesurfer/mni/bin:/usr/local/fsl/bin:/Users/peerherholz/anaconda3/bin:/usr/bin:/bin:/usr/sbin:/sbin:/usr/local/bin:/Applications/workbench/bin_macosx64:/usr/local/texlive/2019/bin/x86_64-darwin/:/Users/peerherholz/abin\n",
      "(dipy_tracks) "
     ]
    },
    {
     "ename": "",
     "evalue": "1",
     "output_type": "error",
     "traceback": []
    }
   ],
   "source": [
    "source dipy_tracks/bin/activate\n",
    "echo $PATH"
   ]
  },
  {
   "cell_type": "markdown",
   "metadata": {},
   "source": [
    "As you can see, the first instance of `$PATH` is our newly created python environment. Therefore, for everything that will be run from the `command line` the first path within which the search of an executable will take place is that environment and not your default one. That means that everything will be executed through/within that environment based on its resources."
   ]
  },
  {
   "cell_type": "markdown",
   "metadata": {},
   "source": [
    "While this is at the core of `virtualization` it also requires you to pay close attention to what and how you're executing functions, scripts, etc. . That being said, we should populate our so far rather empty environment with, foremost, DIPY."
   ]
  },
  {
   "cell_type": "code",
   "execution_count": 20,
   "metadata": {},
   "outputs": [
    {
     "name": "stdout",
     "output_type": "stream",
     "text": [
      "Collecting dipy\n",
      "\u001b[?25l  Downloading https://files.pythonhosted.org/packages/62/8f/63fe5e03244b0044307bcb9742df367ebcd6b00220c7ce1d16150fd5bcdb/dipy-0.16.0-cp36-cp36m-macosx_10_6_intel.macosx_10_9_intel.macosx_10_9_x86_64.macosx_10_10_intel.macosx_10_10_x86_64.whl (11.7MB)\n",
      "\u001b[K    100% |████████████████████████████████| 11.7MB 1.6MB/s ta 0:00:01\n",
      "\u001b[?25hCollecting scipy>=0.9 (from dipy)\n",
      "\u001b[?25l  Downloading https://files.pythonhosted.org/packages/81/ae/125c21f09b202c3009ad7d9fb0263fb7d6053813d4b67ccbbe4d65f7f53a/scipy-1.3.0-cp36-cp36m-macosx_10_6_intel.macosx_10_9_intel.macosx_10_9_x86_64.macosx_10_10_intel.macosx_10_10_x86_64.whl (27.7MB)\n",
      "\u001b[K    100% |████████████████████████████████| 27.7MB 621kB/s ta 0:00:011\n",
      "\u001b[?25hCollecting h5py>=2.4.0 (from dipy)\n",
      "\u001b[?25l  Downloading https://files.pythonhosted.org/packages/03/21/1cdf7fa7868528b35c1a08a770eb9334279574a8b5f1d7a2966dcec14e42/h5py-2.9.0-cp36-cp36m-macosx_10_6_intel.macosx_10_9_intel.macosx_10_9_x86_64.macosx_10_10_intel.macosx_10_10_x86_64.whl (6.3MB)\n",
      "\u001b[K    100% |████████████████████████████████| 6.3MB 1.9MB/s ta 0:00:011\n",
      "\u001b[?25hCollecting nibabel>=2.3.0 (from dipy)\n",
      "\u001b[?25l  Downloading https://files.pythonhosted.org/packages/66/30/fbed62172920c3fd050b6483541546a87c5e735f4a0ef03f08bb150680b4/nibabel-2.4.1-py2.py3-none-any.whl (3.3MB)\n",
      "\u001b[K    100% |████████████████████████████████| 3.3MB 3.6MB/s ta 0:00:01\n",
      "\u001b[?25hCollecting numpy>=1.13.3 (from scipy>=0.9->dipy)\n",
      "\u001b[?25l  Downloading https://files.pythonhosted.org/packages/be/e8/45079ae05c4dda4a67bc51578ae5e75feda0a79c2836d477d676e7a58efb/numpy-1.17.0-cp36-cp36m-macosx_10_6_intel.macosx_10_9_intel.macosx_10_9_x86_64.macosx_10_10_intel.macosx_10_10_x86_64.whl (15.0MB)\n",
      "\u001b[K    100% |████████████████████████████████| 15.0MB 1.1MB/s ta 0:00:011\n",
      "\u001b[?25hCollecting six (from h5py>=2.4.0->dipy)\n",
      "  Downloading https://files.pythonhosted.org/packages/73/fb/00a976f728d0d1fecfe898238ce23f502a721c0ac0ecfedb80e0d88c64e9/six-1.12.0-py2.py3-none-any.whl\n",
      "Installing collected packages: numpy, scipy, six, h5py, nibabel, dipy\n",
      "Successfully installed dipy-0.16.0 h5py-2.9.0 nibabel-2.4.1 numpy-1.17.0 scipy-1.3.0 six-1.12.0\n",
      "\u001b[33mYou are using pip version 10.0.1, however version 19.2.1 is available.\n",
      "You should consider upgrading via the 'pip install --upgrade pip' command.\u001b[0m\n",
      "(dipy_tracks) "
     ]
    },
    {
     "ename": "",
     "evalue": "1",
     "output_type": "error",
     "traceback": []
    }
   ],
   "source": [
    "pip install dipy"
   ]
  },
  {
   "cell_type": "markdown",
   "metadata": {},
   "source": [
    "As you can see, using `pip install dipy` not only downloaded and installed DIPY, but also all its dependencies. This is because most python libraries contain a `requirements.txt` where necessary dependencies are listed. The one of DIPY looks like [this](https://github.com/nipy/dipy/blob/master/requirements.txt) and includes all the packages we just downloaded and installed. This handy functionality is possible through `pip` being a `package manager`. A thus also included functionality is the easy investigation of our environment, for example which packages are installed: "
   ]
  },
  {
   "cell_type": "code",
   "execution_count": 21,
   "metadata": {},
   "outputs": [
    {
     "name": "stdout",
     "output_type": "stream",
     "text": [
      "dipy==0.16.0\n",
      "h5py==2.9.0\n",
      "nibabel==2.4.1\n",
      "numpy==1.17.0\n",
      "scipy==1.3.0\n",
      "six==1.12.0\n",
      "\u001b[33mYou are using pip version 10.0.1, however version 19.2.1 is available.\n",
      "You should consider upgrading via the 'pip install --upgrade pip' command.\u001b[0m\n",
      "(dipy_tracks) "
     ]
    },
    {
     "ename": "",
     "evalue": "1",
     "output_type": "error",
     "traceback": []
    }
   ],
   "source": [
    "pip freeze"
   ]
  },
  {
   "cell_type": "markdown",
   "metadata": {},
   "source": [
    "Furthermore we can also save the output of `pip freeze` to create our own `requirements.txt` which you then can share with however is interested in running your scripts and analyses using the same python libraries with the identical version. This is `virtualization` of python environments. "
   ]
  },
  {
   "cell_type": "code",
   "execution_count": 22,
   "metadata": {},
   "outputs": [
    {
     "name": "stdout",
     "output_type": "stream",
     "text": [
      "\u001b[33mYou are using pip version 10.0.1, however version 19.2.1 is available.\n",
      "You should consider upgrading via the 'pip install --upgrade pip' command.\u001b[0m\n",
      "(dipy_tracks) "
     ]
    },
    {
     "ename": "",
     "evalue": "1",
     "output_type": "error",
     "traceback": []
    }
   ],
   "source": [
    "pip freeze > requirements.txt\n",
    "cat requirements.txt"
   ]
  },
  {
   "cell_type": "markdown",
   "metadata": {},
   "source": [
    "But before we do share our environment, we should ensure that everything is working as expected:"
   ]
  },
  {
   "cell_type": "code",
   "execution_count": 23,
   "metadata": {},
   "outputs": [
    {
     "name": "stdout",
     "output_type": "stream",
     "text": [
      "Dataset is already in place. If you want to fetch it again please first remove the folder /Users/peerherholz/.dipy/stanford_hardi \n",
      "Dataset is already in place. If you want to fetch it again please first remove the folder /Users/peerherholz/.dipy/stanford_hardi \n",
      "Dataset is already in place. If you want to fetch it again please first remove the folder /Users/peerherholz/.dipy/stanford_hardi \n",
      "Traceback (most recent call last):\n",
      "  File \"introduction_to_basic_tracking.py\", line 98, in <module>\n",
      "    from dipy.viz import window, actor, colormap as cmap, have_fury\n",
      "ImportError: cannot import name 'window'\n",
      "(dipy_tracks) "
     ]
    },
    {
     "ename": "",
     "evalue": "1",
     "output_type": "error",
     "traceback": []
    }
   ],
   "source": [
    "python introduction_to_basic_tracking.py"
   ]
  },
  {
   "cell_type": "markdown",
   "metadata": {},
   "source": [
    "\"Luckily\" we run into the same error as before in our default python environment. Now we can work on resolving this error and thus create an environment that is rather specifically than sharing our own most likely large default python environment with lots of libraries that are not necessary."
   ]
  },
  {
   "cell_type": "markdown",
   "metadata": {},
   "source": [
    "Most python packages have very useful error message like the one we're receiving. Paying a bit more attention, we see that something is missing and after a short google (or any other search engine) session, we know that the `fury` package is missing. By now, we know what to do:"
   ]
  },
  {
   "cell_type": "code",
   "execution_count": 24,
   "metadata": {},
   "outputs": [
    {
     "name": "stdout",
     "output_type": "stream",
     "text": [
      "Collecting fury\n",
      "\u001b[?25l  Downloading https://files.pythonhosted.org/packages/36/f2/ad1109e541c091a3c591ce2841e55e5ef177cd738d90b1a5bd038fa1dfa0/fury-0.2.0-py3-none-any.whl (140kB)\n",
      "\u001b[K    100% |████████████████████████████████| 143kB 1.8MB/s ta 0:00:01\n",
      "\u001b[?25hRequirement already satisfied: numpy>=1.7.1 in ./dipy_tracks/lib/python3.6/site-packages (from fury) (1.17.0)\n",
      "Requirement already satisfied: scipy>=0.9 in ./dipy_tracks/lib/python3.6/site-packages (from fury) (1.3.0)\n",
      "Collecting vtk>=8.1.0 (from fury)\n",
      "\u001b[?25l  Downloading https://files.pythonhosted.org/packages/8d/3b/a92a64a5d1203aae2af17dccc686ff4eb3bb7114db79eaab1593c03fb678/vtk-8.1.2-cp36-cp36m-macosx_10_6_x86_64.whl (54.9MB)\n",
      "\u001b[K    100% |████████████████████████████████| 54.9MB 264kB/s ta 0:00:011\n",
      "\u001b[?25hInstalling collected packages: vtk, fury\n",
      "Successfully installed fury-0.2.0 vtk-8.1.2\n",
      "\u001b[33mYou are using pip version 10.0.1, however version 19.2.1 is available.\n",
      "You should consider upgrading via the 'pip install --upgrade pip' command.\u001b[0m\n",
      "(dipy_tracks) "
     ]
    },
    {
     "ename": "",
     "evalue": "1",
     "output_type": "error",
     "traceback": []
    }
   ],
   "source": [
    "pip install fury"
   ]
  },
  {
   "cell_type": "markdown",
   "metadata": {},
   "source": [
    "As you can see, `vtk` was installed as a dependency of `fury`. So far so good, let's try the example again."
   ]
  },
  {
   "cell_type": "code",
   "execution_count": 25,
   "metadata": {},
   "outputs": [
    {
     "name": "stdout",
     "output_type": "stream",
     "text": [
      "Dataset is already in place. If you want to fetch it again please first remove the folder /Users/peerherholz/.dipy/stanford_hardi \n",
      "Dataset is already in place. If you want to fetch it again please first remove the folder /Users/peerherholz/.dipy/stanford_hardi \n",
      "Dataset is already in place. If you want to fetch it again please first remove the folder /Users/peerherholz/.dipy/stanford_hardi \n",
      "/Users/peerherholz/google_drive/GitHub/NeuroDataSci-course-2019/content/day2/pm/dipy_tracks/lib/python3.6/site-packages/fury/colormap.py:229: RuntimeWarning: invalid value encountered in true_divide\n",
      "  orient = np.abs(orient / np.linalg.norm(orient))\n",
      "(dipy_tracks) "
     ]
    },
    {
     "ename": "",
     "evalue": "1",
     "output_type": "error",
     "traceback": []
    }
   ],
   "source": [
    "python introduction_to_basic_tracking.py"
   ]
  },
  {
   "cell_type": "markdown",
   "metadata": {},
   "source": [
    "As this tutorial was put together in such a way to stress the many possibilities of errors and problems, thus the importance of virtualization, it will be divided from no one, based on the output you received above (I'm truly sorry, but we can't estimate the setup of all participants). If the above command worked for you, please continue below, if not, please go to the section [Virtualization using python environments - conda](#virtualization_conda)."
   ]
  },
  {
   "cell_type": "markdown",
   "metadata": {},
   "source": [
    "If you see the error: `dipy_tracks/lib/python3.6/site-packages/fury/colormap.py:229: RuntimeWarning: invalid value encountered in true_divide orient = np.abs(orient / np.linalg.norm(orient))` don't worry for now, as it's a `warning`, not an `error` and our example script completely successfully (*Please note that you should of course investigate any warning when working on real scripts and analyses*). If we check our `pwd` we see four new files: two `.trk` and two graphics in `.png` format."
   ]
  },
  {
   "cell_type": "markdown",
   "metadata": {},
   "source": [
    "As we've seen, the script also allows to enable an interactive view. Let's check if that's working as well."
   ]
  },
  {
   "cell_type": "code",
   "execution_count": 28,
   "metadata": {},
   "outputs": [
    {
     "name": "stdout",
     "output_type": "stream",
     "text": [
      "Dataset is already in place. If you want to fetch it again please first remove the folder /Users/peerherholz/.dipy/stanford_hardi \n",
      "Dataset is already in place. If you want to fetch it again please first remove the folder /Users/peerherholz/.dipy/stanford_hardi \n",
      "Dataset is already in place. If you want to fetch it again please first remove the folder /Users/peerherholz/.dipy/stanford_hardi \n",
      "/Users/peerherholz/google_drive/GitHub/NeuroDataSci-course-2019/content/day2/pm/dipy_tracks/lib/python3.6/site-packages/fury/colormap.py:229: RuntimeWarning: invalid value encountered in true_divide\n",
      "  orient = np.abs(orient / np.linalg.norm(orient))\n",
      "Terminated: 15\n",
      "(dipy_tracks) "
     ]
    },
    {
     "ename": "",
     "evalue": "1",
     "output_type": "error",
     "traceback": []
    }
   ],
   "source": [
    "python introduction_to_basic_tracking.py"
   ]
  },
  {
   "cell_type": "markdown",
   "metadata": {},
   "source": [
    "Now that we've everything necessary in place, we can update our `requirements.txt` and share it:"
   ]
  },
  {
   "cell_type": "code",
   "execution_count": 29,
   "metadata": {},
   "outputs": [
    {
     "name": "stdout",
     "output_type": "stream",
     "text": [
      "\u001b[33mYou are using pip version 10.0.1, however version 19.2.1 is available.\n",
      "You should consider upgrading via the 'pip install --upgrade pip' command.\u001b[0m\n",
      "(dipy_tracks) dipy==0.16.0\n",
      "fury==0.2.0\n",
      "h5py==2.9.0\n",
      "nibabel==2.4.1\n",
      "numpy==1.17.0\n",
      "scipy==1.3.0\n",
      "six==1.12.0\n",
      "vtk==8.1.2\n",
      "(dipy_tracks) "
     ]
    },
    {
     "ename": "",
     "evalue": "1",
     "output_type": "error",
     "traceback": []
    }
   ],
   "source": [
    "pip freeze > requirements.txt\n",
    "cat requirements.txt"
   ]
  },
  {
   "cell_type": "markdown",
   "metadata": {},
   "source": [
    "<a id='virtualization_conda'></a>\n",
    "### Virtualization using python environments - conda"
   ]
  },
  {
   "cell_type": "markdown",
   "metadata": {},
   "source": [
    "If the last run of the example resulted in the something along the following lines for you, this means there is more work to do, work that goes a bit deeper: \n",
    "`from .vtkOpenGLKitPython import *\n",
    "ImportError: libSM.so.6: cannot open shared object file: No such file or directory``\n",
    "`ModuleNotFoundError: No module named 'vtkOpenGLKitPython'`"
   ]
  },
  {
   "cell_type": "markdown",
   "metadata": {},
   "source": [
    "Even though we seemingly installed all necessary dependencies based on the script and the previous output, we still receive an error related to some missing resources. One thing we could try now, is to use a different virtualization method and python package manager. One that became well known and heavily used within the last few years is [conda](https://docs.conda.io/en/latest/). While before we used `venv` to create our virtual environment and `pip` as a package manager, we can use `conda` for both as it combines the respective functionality. Recreating our virtual environment from before is made very easy and straightforward through `conda`, with the general syntax being: `conda create -n *name* *python_version* *libraries*`, where `*name*` is the name of your virtual environment, `*python_version*` the python version you want to use and `*libraries*` the libraries you want to install. Adapted to our example, this looks as follows: "
   ]
  },
  {
   "cell_type": "code",
   "execution_count": 1,
   "metadata": {},
   "outputs": [
    {
     "name": "stdout",
     "output_type": "stream",
     "text": [
      "Collecting package metadata: done\n",
      "Solving environment: done\n",
      "\n",
      "\n",
      "==> WARNING: A newer version of conda exists. <==\n",
      "  current version: 4.6.14\n",
      "  latest version: 4.7.10\n",
      "\n",
      "Please update conda by running\n",
      "\n",
      "    $ conda update -n base conda\n",
      "\n",
      "\n",
      "\n",
      "## Package Plan ##\n",
      "\n",
      "  environment location: /Users/peerherholz/anaconda3/envs/dipy_tracks\n",
      "\n",
      "  added / updated specs:\n",
      "    - dipy\n",
      "    - python=3.6\n",
      "\n",
      "\n",
      "The following packages will be downloaded:\n",
      "\n",
      "    package                    |            build\n",
      "    ---------------------------|-----------------\n",
      "    bzip2-1.0.8                |       h01d97ff_0         148 KB  conda-forge\n",
      "    certifi-2019.6.16          |           py36_1         149 KB  conda-forge\n",
      "    h5py-2.9.0                 |nompi_py36h3d62f72_1103         980 KB  conda-forge\n",
      "    libcxx-8.0.0               |                4         1.0 MB  conda-forge\n",
      "    libopenblas-0.3.6          |       hd44dcd8_6         8.4 MB  conda-forge\n",
      "    libpng-1.6.37              |       h2573ce8_0         298 KB  conda-forge\n",
      "    matplotlib-base-3.1.1      |   py36h3a684a6_1         6.6 MB  conda-forge\n",
      "    mock-3.0.5                 |           py36_0          44 KB  conda-forge\n",
      "    nibabel-2.4.1              |             py_0         2.7 MB  conda-forge\n",
      "    pydicom-1.3.0              |             py_0         5.3 MB  conda-forge\n",
      "    tbb-2019.7                 |       h770b8ee_0         157 KB  conda-forge\n",
      "    wheel-0.33.4               |           py36_0          34 KB  conda-forge\n",
      "    ------------------------------------------------------------\n",
      "                                           Total:        25.7 MB\n",
      "\n",
      "The following NEW packages will be INSTALLED:\n",
      "\n",
      "  blosc              conda-forge/osx-64::blosc-1.17.0-h6de7cb9_0\n",
      "  bz2file            conda-forge/noarch::bz2file-0.98-py_0\n",
      "  bzip2              conda-forge/osx-64::bzip2-1.0.8-h01d97ff_0\n",
      "  ca-certificates    conda-forge/osx-64::ca-certificates-2019.6.16-hecc5488_0\n",
      "  certifi            conda-forge/osx-64::certifi-2019.6.16-py36_1\n",
      "  cvxopt             conda-forge/osx-64::cvxopt-1.2.3-py36h18a38e7_202\n",
      "  cycler             conda-forge/noarch::cycler-0.10.0-py_1\n",
      "  dipy               conda-forge/osx-64::dipy-0.16.0-py36h917ab60_0\n",
      "  dsdp               conda-forge/osx-64::dsdp-5.8-h971f2e1_1203\n",
      "  fftw               conda-forge/osx-64::fftw-3.3.8-nompi_h5c49c53_1106\n",
      "  freetype           conda-forge/osx-64::freetype-2.10.0-h24853df_0\n",
      "  glpk               conda-forge/osx-64::glpk-4.65-h0a95893_1001\n",
      "  gmp                conda-forge/osx-64::gmp-6.1.2-h0a44026_1000\n",
      "  gsl                conda-forge/osx-64::gsl-2.5-ha2d443c_0\n",
      "  h5py               conda-forge/osx-64::h5py-2.9.0-nompi_py36h3d62f72_1103\n",
      "  hdf5               conda-forge/osx-64::hdf5-1.10.4-nompi_h0cbb7df_1106\n",
      "  joblib             conda-forge/noarch::joblib-0.13.2-py_0\n",
      "  kiwisolver         conda-forge/osx-64::kiwisolver-1.1.0-py36h770b8ee_0\n",
      "  libblas            conda-forge/osx-64::libblas-3.8.0-11_openblas\n",
      "  libcblas           conda-forge/osx-64::libcblas-3.8.0-11_openblas\n",
      "  libcxx             conda-forge/osx-64::libcxx-8.0.0-4\n",
      "  libcxxabi          conda-forge/osx-64::libcxxabi-8.0.0-4\n",
      "  libffi             conda-forge/osx-64::libffi-3.2.1-h6de7cb9_1006\n",
      "  libgfortran        conda-forge/osx-64::libgfortran-3.0.1-0\n",
      "  liblapack          conda-forge/osx-64::liblapack-3.8.0-11_openblas\n",
      "  libopenblas        conda-forge/osx-64::libopenblas-0.3.6-hd44dcd8_6\n",
      "  libpng             conda-forge/osx-64::libpng-1.6.37-h2573ce8_0\n",
      "  llvm-openmp        conda-forge/osx-64::llvm-openmp-8.0.0-h770b8ee_0\n",
      "  matplotlib         conda-forge/osx-64::matplotlib-3.1.1-py36_1\n",
      "  matplotlib-base    conda-forge/osx-64::matplotlib-base-3.1.1-py36h3a684a6_1\n",
      "  metis              conda-forge/osx-64::metis-5.1.0-h0a44026_1003\n",
      "  mock               conda-forge/osx-64::mock-3.0.5-py36_0\n",
      "  ncurses            conda-forge/osx-64::ncurses-6.1-h0a44026_1002\n",
      "  nibabel            conda-forge/noarch::nibabel-2.4.1-py_0\n",
      "  numexpr            conda-forge/osx-64::numexpr-2.6.9-py36h1702cab_1000\n",
      "  numpy              conda-forge/osx-64::numpy-1.17.0-py36h6b0580a_0\n",
      "  openssl            conda-forge/osx-64::openssl-1.1.1c-h01d97ff_0\n",
      "  pip                conda-forge/osx-64::pip-19.2.1-py36_0\n",
      "  pydicom            conda-forge/noarch::pydicom-1.3.0-py_0\n",
      "  pyparsing          conda-forge/noarch::pyparsing-2.4.2-py_0\n",
      "  pytables           conda-forge/osx-64::pytables-3.5.2-py36hc2baff1_0\n",
      "  python             conda-forge/osx-64::python-3.6.7-h94afb7f_1005\n",
      "  python-dateutil    conda-forge/noarch::python-dateutil-2.8.0-py_0\n",
      "  readline           conda-forge/osx-64::readline-8.0-hcfe32e1_0\n",
      "  scikit-learn       conda-forge/osx-64::scikit-learn-0.21.3-py36hd4ffd6c_0\n",
      "  scipy              conda-forge/osx-64::scipy-1.3.0-py36hab3da7d_1\n",
      "  setuptools         conda-forge/osx-64::setuptools-41.0.1-py36_0\n",
      "  six                conda-forge/osx-64::six-1.12.0-py36_1000\n",
      "  sqlite             conda-forge/osx-64::sqlite-3.29.0-hb7d70f7_0\n",
      "  suitesparse        conda-forge/osx-64::suitesparse-4.5.6-h7019593_1202\n",
      "  tbb                conda-forge/osx-64::tbb-2019.7-h770b8ee_0\n",
      "  tk                 conda-forge/osx-64::tk-8.6.9-h2573ce8_1002\n",
      "  tornado            conda-forge/osx-64::tornado-6.0.3-py36h01d97ff_0\n",
      "  wheel              conda-forge/osx-64::wheel-0.33.4-py36_0\n",
      "  xz                 conda-forge/osx-64::xz-5.2.4-h1de35cc_1001\n",
      "  zlib               conda-forge/osx-64::zlib-1.2.11-h01d97ff_1005\n",
      "\n",
      "\n",
      "\n",
      "Downloading and Extracting Packages\n",
      "nibabel-2.4.1        | 2.7 MB    | ##################################### | 100% \n",
      "h5py-2.9.0           | 980 KB    | ##################################### | 100% \n",
      "libcxx-8.0.0         | 1.0 MB    | ##################################### | 100% \n",
      "matplotlib-base-3.1. | 6.6 MB    | ##################################### | 100% \n",
      "libopenblas-0.3.6    | 8.4 MB    | ##################################### | 100% \n",
      "tbb-2019.7           | 157 KB    | ##################################### | 100% \n",
      "certifi-2019.6.16    | 149 KB    | ##################################### | 100% \n",
      "mock-3.0.5           | 44 KB     | ##################################### | 100% \n",
      "wheel-0.33.4         | 34 KB     | ##################################### | 100% \n",
      "libpng-1.6.37        | 298 KB    | ##################################### | 100% \n",
      "pydicom-1.3.0        | 5.3 MB    | ##################################### | 100% \n",
      "bzip2-1.0.8          | 148 KB    | ##################################### | 100% \n",
      "Preparing transaction: done\n",
      "Verifying transaction: done\n",
      "Executing transaction: done\n",
      "#\n",
      "# To activate this environment, use:\n",
      "# > conda activate dipy_tracks\n",
      "#\n",
      "# To deactivate an active environment, use:\n",
      "# > conda deactivate\n",
      "#\n",
      "\n"
     ]
    }
   ],
   "source": [
    "conda create -y -n dipy_tracks  python=3.6 dipy "
   ]
  },
  {
   "cell_type": "markdown",
   "metadata": {},
   "source": [
    "As you can see, `conda`, by default, installs already a fair amount of libraries as compared to `venv`. However, we're still missing `fury`. So let's activate our newly create `conda environment` and install it. The steps and syntax are very similar to what we've done before: "
   ]
  },
  {
   "cell_type": "code",
   "execution_count": 8,
   "metadata": {},
   "outputs": [
    {
     "name": "stdout",
     "output_type": "stream",
     "text": [
      "(dipy_tracks) "
     ]
    },
    {
     "ename": "",
     "evalue": "1",
     "output_type": "error",
     "traceback": []
    }
   ],
   "source": [
    "source activate dipy_tracks"
   ]
  },
  {
   "cell_type": "code",
   "execution_count": 10,
   "metadata": {},
   "outputs": [
    {
     "name": "stdout",
     "output_type": "stream",
     "text": [
      "Collecting package metadata: done\n",
      "Solving environment: failed\n",
      "\n",
      "PackagesNotFoundError: The following packages are not available from current channels:\n",
      "\n",
      "  - fury\n",
      "\n",
      "Current channels:\n",
      "\n",
      "  - https://conda.anaconda.org/conda-forge/osx-64\n",
      "  - https://conda.anaconda.org/conda-forge/noarch\n",
      "  - https://repo.anaconda.com/pkgs/main/osx-64\n",
      "  - https://repo.anaconda.com/pkgs/main/noarch\n",
      "  - https://repo.anaconda.com/pkgs/free/osx-64\n",
      "  - https://repo.anaconda.com/pkgs/free/noarch\n",
      "  - https://repo.anaconda.com/pkgs/r/osx-64\n",
      "  - https://repo.anaconda.com/pkgs/r/noarch\n",
      "\n",
      "To search for alternate channels that may provide the conda package you're\n",
      "looking for, navigate to\n",
      "\n",
      "    https://anaconda.org\n",
      "\n",
      "and use the search bar at the top of the page.\n",
      "\n",
      "\n",
      "(dipy_tracks) "
     ]
    },
    {
     "ename": "",
     "evalue": "1",
     "output_type": "error",
     "traceback": []
    }
   ],
   "source": [
    "conda install fury"
   ]
  },
  {
   "cell_type": "markdown",
   "metadata": {},
   "source": [
    "And yet another problem: `fury` can't be found in the channels `conda` is looking for it (*spoiler: installing `fury` using `conda` only worked till python3.4*). But we can get using `pip`. This is a good of example of not all libraries being available in all package managers.  "
   ]
  },
  {
   "cell_type": "code",
   "execution_count": 11,
   "metadata": {},
   "outputs": [
    {
     "name": "stdout",
     "output_type": "stream",
     "text": [
      "Collecting fury\n",
      "  Using cached https://files.pythonhosted.org/packages/65/28/14fe94c26e947f650222f076f57b607148cbf0bb2c303324ce13a8b87bdc/fury-0.3.0-py3-none-any.whl\n",
      "Requirement already satisfied: scipy>=0.9 in /Users/peerherholz/anaconda3/envs/dipy_tracks/lib/python3.6/site-packages (from fury) (1.3.0)\n",
      "Requirement already satisfied: numpy>=1.7.1 in /Users/peerherholz/anaconda3/envs/dipy_tracks/lib/python3.6/site-packages (from fury) (1.17.0)\n",
      "Collecting vtk>=8.1.0 (from fury)\n",
      "  Using cached https://files.pythonhosted.org/packages/8d/3b/a92a64a5d1203aae2af17dccc686ff4eb3bb7114db79eaab1593c03fb678/vtk-8.1.2-cp36-cp36m-macosx_10_6_x86_64.whl\n",
      "Installing collected packages: vtk, fury\n",
      "Successfully installed fury-0.3.0 vtk-8.1.2\n",
      "(dipy_tracks) "
     ]
    },
    {
     "ename": "",
     "evalue": "1",
     "output_type": "error",
     "traceback": []
    }
   ],
   "source": [
    "pip install fury"
   ]
  },
  {
   "cell_type": "markdown",
   "metadata": {},
   "source": [
    "Okay, so far so good. Let's check our environment before we try to run the example:"
   ]
  },
  {
   "cell_type": "code",
   "execution_count": 12,
   "metadata": {},
   "outputs": [
    {
     "name": "stdout",
     "output_type": "stream",
     "text": [
      "# conda environments:\n",
      "#\n",
      "base                     /Users/peerherholz/anaconda3\n",
      "dipy_tracks           *  /Users/peerherholz/anaconda3/envs/dipy_tracks\n",
      "py27                     /Users/peerherholz/anaconda3/envs/py27\n",
      "python3.6_test           /Users/peerherholz/anaconda3/envs/python3.6_test\n",
      "                         /usr/local/fsl/fslpython/envs/fslpython\n",
      "\n",
      "(dipy_tracks) "
     ]
    },
    {
     "ename": "",
     "evalue": "1",
     "output_type": "error",
     "traceback": []
    }
   ],
   "source": [
    "conda info --envs"
   ]
  },
  {
   "cell_type": "code",
   "execution_count": 13,
   "metadata": {},
   "outputs": [
    {
     "name": "stdout",
     "output_type": "stream",
     "text": [
      "/Users/peerherholz/anaconda3/envs/dipy_tracks/bin/python\n",
      "(dipy_tracks) "
     ]
    },
    {
     "ename": "",
     "evalue": "1",
     "output_type": "error",
     "traceback": []
    }
   ],
   "source": [
    "which python"
   ]
  },
  {
   "cell_type": "code",
   "execution_count": 14,
   "metadata": {},
   "outputs": [
    {
     "name": "stdout",
     "output_type": "stream",
     "text": [
      "# packages in environment at /Users/peerherholz/anaconda3/envs/dipy_tracks:\n",
      "#\n",
      "# Name                    Version                   Build  Channel\n",
      "blosc                     1.17.0               h6de7cb9_0    conda-forge\n",
      "bz2file                   0.98                       py_0    conda-forge\n",
      "bzip2                     1.0.8                h01d97ff_0    conda-forge\n",
      "ca-certificates           2019.6.16            hecc5488_0    conda-forge\n",
      "certifi                   2019.6.16                py36_1    conda-forge\n",
      "cvxopt                    1.2.3           py36h18a38e7_202    conda-forge\n",
      "cycler                    0.10.0                     py_1    conda-forge\n",
      "dipy                      0.16.0           py36h917ab60_0    conda-forge\n",
      "dsdp                      5.8               h971f2e1_1203    conda-forge\n",
      "fftw                      3.3.8           nompi_h5c49c53_1106    conda-forge\n",
      "freetype                  2.10.0               h24853df_0    conda-forge\n",
      "fury                      0.3.0                    pypi_0    pypi\n",
      "glpk                      4.65              h0a95893_1001    conda-forge\n",
      "gmp                       6.1.2             h0a44026_1000    conda-forge\n",
      "gsl                       2.5                  ha2d443c_0    conda-forge\n",
      "h5py                      2.9.0           nompi_py36h3d62f72_1103    conda-forge\n",
      "hdf5                      1.10.4          nompi_h0cbb7df_1106    conda-forge\n",
      "joblib                    0.13.2                     py_0    conda-forge\n",
      "kiwisolver                1.1.0            py36h770b8ee_0    conda-forge\n",
      "libblas                   3.8.0               11_openblas    conda-forge\n",
      "libcblas                  3.8.0               11_openblas    conda-forge\n",
      "libcxx                    8.0.0                         4    conda-forge\n",
      "libcxxabi                 8.0.0                         4    conda-forge\n",
      "libffi                    3.2.1             h6de7cb9_1006    conda-forge\n",
      "libgfortran               3.0.1                         0    conda-forge\n",
      "liblapack                 3.8.0               11_openblas    conda-forge\n",
      "libopenblas               0.3.6                hd44dcd8_6    conda-forge\n",
      "libpng                    1.6.37               h2573ce8_0    conda-forge\n",
      "llvm-openmp               8.0.0                h770b8ee_0    conda-forge\n",
      "matplotlib                3.1.1                    py36_1    conda-forge\n",
      "matplotlib-base           3.1.1            py36h3a684a6_1    conda-forge\n",
      "metis                     5.1.0             h0a44026_1003    conda-forge\n",
      "mock                      3.0.5                    py36_0    conda-forge\n",
      "ncurses                   6.1               h0a44026_1002    conda-forge\n",
      "nibabel                   2.4.1                      py_0    conda-forge\n",
      "numexpr                   2.6.9           py36h1702cab_1000    conda-forge\n",
      "numpy                     1.17.0           py36h6b0580a_0    conda-forge\n",
      "openssl                   1.1.1c               h01d97ff_0    conda-forge\n",
      "pip                       19.2.1                   py36_0    conda-forge\n",
      "pydicom                   1.3.0                      py_0    conda-forge\n",
      "pyparsing                 2.4.2                      py_0    conda-forge\n",
      "pytables                  3.5.2            py36hc2baff1_0    conda-forge\n",
      "python                    3.6.7             h94afb7f_1005    conda-forge\n",
      "python-dateutil           2.8.0                      py_0    conda-forge\n",
      "readline                  8.0                  hcfe32e1_0    conda-forge\n",
      "scikit-learn              0.21.3           py36hd4ffd6c_0    conda-forge\n",
      "scipy                     1.3.0            py36hab3da7d_1    conda-forge\n",
      "setuptools                41.0.1                   py36_0    conda-forge\n",
      "six                       1.12.0                py36_1000    conda-forge\n",
      "sqlite                    3.29.0               hb7d70f7_0    conda-forge\n",
      "suitesparse               4.5.6             h7019593_1202    conda-forge\n",
      "tbb                       2019.7               h770b8ee_0    conda-forge\n",
      "tk                        8.6.9             h2573ce8_1002    conda-forge\n",
      "tornado                   6.0.3            py36h01d97ff_0    conda-forge\n",
      "vtk                       8.1.2                    pypi_0    pypi\n",
      "wheel                     0.33.4                   py36_0    conda-forge\n",
      "xz                        5.2.4             h1de35cc_1001    conda-forge\n",
      "zlib                      1.2.11            h01d97ff_1005    conda-forge\n",
      "(dipy_tracks) "
     ]
    },
    {
     "ename": "",
     "evalue": "1",
     "output_type": "error",
     "traceback": []
    }
   ],
   "source": [
    "conda list"
   ]
  },
  {
   "cell_type": "markdown",
   "metadata": {},
   "source": [
    "Okay, looks good. Let's export the environment to be available for later:"
   ]
  },
  {
   "cell_type": "code",
   "execution_count": 15,
   "metadata": {},
   "outputs": [
    {
     "name": "stdout",
     "output_type": "stream",
     "text": [
      "(dipy_tracks) "
     ]
    },
    {
     "ename": "",
     "evalue": "1",
     "output_type": "error",
     "traceback": []
    }
   ],
   "source": [
    "conda env export > environment_conda.yml"
   ]
  },
  {
   "cell_type": "markdown",
   "metadata": {},
   "source": [
    "And we're ready for a new test run:"
   ]
  },
  {
   "cell_type": "code",
   "execution_count": 16,
   "metadata": {},
   "outputs": [
    {
     "name": "stdout",
     "output_type": "stream",
     "text": [
      "Dataset is already in place. If you want to fetch it again please first remove the folder /Users/peerherholz/.dipy/stanford_hardi \n",
      "Dataset is already in place. If you want to fetch it again please first remove the folder /Users/peerherholz/.dipy/stanford_hardi \n",
      "Dataset is already in place. If you want to fetch it again please first remove the folder /Users/peerherholz/.dipy/stanford_hardi \n",
      "/Users/peerherholz/anaconda3/envs/dipy_tracks/lib/python3.6/site-packages/fury/colormap.py:229: RuntimeWarning: invalid value encountered in true_divide\n",
      "  orient = np.abs(orient / np.linalg.norm(orient))\n",
      "(dipy_tracks) "
     ]
    },
    {
     "ename": "",
     "evalue": "1",
     "output_type": "error",
     "traceback": []
    }
   ],
   "source": [
    "python introduction_to_basic_tracking.py"
   ]
  },
  {
   "cell_type": "markdown",
   "metadata": {},
   "source": [
    "Them same error as in our `venv` environment... Feeling the frustration? Good, that was plan. This example stresses two important things: a) you should read error messages carefully and b) quite often a virtualization at the pure python level is not enough. Focusing the latter, we need to install dependencies that are outside python, that is [VTK](https://vtk.org/). At this point there is nothing more we can do based on pure python virtualization, we have to go one stop further, also including non-python resources in order to enable a re-usable/executable and reproducible functionality that can easily be shared. To this end, let's have a look at our graphic from above:"
   ]
  },
  {
   "cell_type": "markdown",
   "metadata": {},
   "source": [
    "As briefly introduced before, we have quite some level of possible virtualization:\n",
    "\n",
    "<img src=\"https://raw.githubusercontent.com/goanpeca/pyday-cali-2019/master/img_source/isolation.png\"\n",
    "     alt=\"virtualization layers\"\n",
    "     style=\"float: left; margin-right: 2px;\" width=600; height=800  />"
   ]
  },
  {
   "cell_type": "code",
   "execution_count": null,
   "metadata": {},
   "outputs": [],
   "source": []
  },
  {
   "cell_type": "code",
   "execution_count": null,
   "metadata": {},
   "outputs": [],
   "source": []
  },
  {
   "cell_type": "code",
   "execution_count": null,
   "metadata": {},
   "outputs": [],
   "source": []
  },
  {
   "cell_type": "code",
   "execution_count": null,
   "metadata": {},
   "outputs": [],
   "source": []
  },
  {
   "cell_type": "code",
   "execution_count": null,
   "metadata": {},
   "outputs": [],
   "source": []
  }
 ],
 "metadata": {
  "kernelspec": {
   "display_name": "Bash",
   "language": "bash",
   "name": "bash"
  },
  "language_info": {
   "codemirror_mode": "shell",
   "file_extension": ".sh",
   "mimetype": "text/x-sh",
   "name": "bash"
  }
 },
 "nbformat": 4,
 "nbformat_minor": 2
}
